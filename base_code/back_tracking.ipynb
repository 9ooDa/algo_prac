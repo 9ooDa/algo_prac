{
 "cells": [
  {
   "cell_type": "markdown",
   "metadata": {},
   "source": [
    "### 3x3 행렬 선택 게임\n",
    "1. 3개의 숫자를 선택하는 게임\n",
    "2. 단, 선택한 숫자들의 행과 열은 중복하면 안됨\n",
    "3. 가장 작은 점수를 얻으면 승리"
   ]
  },
  {
   "cell_type": "code",
   "execution_count": 14,
   "metadata": {},
   "outputs": [
    {
     "name": "stdout",
     "output_type": "stream",
     "text": [
      "None\n",
      "8\n"
     ]
    }
   ],
   "source": [
    "import sys\n",
    "\n",
    "arr = [[1, 5, 3], [2, 5, 7], [5, 3, 5]]\n",
    "chk = [False] * 3\n",
    "m = sys.maxsize\n",
    "\n",
    "def back_track(row, score):\n",
    "    global m\n",
    "    if row == 3:\n",
    "        if score < m:\n",
    "            m = score\n",
    "            return\n",
    "    for i in range(3):\n",
    "        if chk[i] == False:\n",
    "            chk[i] = True\n",
    "            back_track(row + 1, score + arr[row][i])\n",
    "            chk[i] = False # 재귀 호출에서 빠져나오면 현재 선택한 항목을 해제해 선택하지 않은 것으로 다음에 처리할 수 있도록 하기 위함\n",
    "    return\n",
    "\n",
    "back_track(0, 0)\n",
    "print(m)\n",
    "    "
   ]
  },
  {
   "cell_type": "code",
   "execution_count": null,
   "metadata": {},
   "outputs": [],
   "source": []
  }
 ],
 "metadata": {
  "kernelspec": {
   "display_name": "Python 3",
   "language": "python",
   "name": "python3"
  },
  "language_info": {
   "codemirror_mode": {
    "name": "ipython",
    "version": 3
   },
   "file_extension": ".py",
   "mimetype": "text/x-python",
   "name": "python",
   "nbconvert_exporter": "python",
   "pygments_lexer": "ipython3",
   "version": "3.8.6rc1"
  },
  "orig_nbformat": 4
 },
 "nbformat": 4,
 "nbformat_minor": 2
}
