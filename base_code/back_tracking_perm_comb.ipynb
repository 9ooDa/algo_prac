{
 "cells": [
  {
   "cell_type": "code",
   "execution_count": 5,
   "metadata": {},
   "outputs": [
    {
     "name": "stdout",
     "output_type": "stream",
     "text": [
      "1 2\n",
      "1 3\n",
      "2 1\n",
      "2 3\n",
      "3 1\n",
      "3 2\n"
     ]
    }
   ],
   "source": [
    "arr = [1, 2, 3]\n",
    "\n",
    "ans = []\n",
    "def permuation():\n",
    "    if len(ans) == 2:\n",
    "        print(' '.join(map(str, ans)))\n",
    "\n",
    "    for i in range(len(arr)):\n",
    "        if arr[i] not in ans:\n",
    "            ans.append(arr[i])\n",
    "            permuation()\n",
    "            ans.pop()\n",
    "\n",
    "permuation()"
   ]
  },
  {
   "cell_type": "code",
   "execution_count": 31,
   "metadata": {},
   "outputs": [
    {
     "name": "stdout",
     "output_type": "stream",
     "text": [
      "1 2\n",
      "1 3\n",
      "2 3\n"
     ]
    }
   ],
   "source": [
    "arr = [1, 2, 3]\n",
    "\n",
    "ans = []\n",
    "def combination(start):\n",
    "    if len(ans) == 2:\n",
    "        print(' '.join(map(str, ans)))\n",
    "        return\n",
    "\n",
    "    for i in range(start, len(arr)):\n",
    "        if arr[i] not in ans:\n",
    "            ans.append(arr[i])\n",
    "            combination(i + 1)\n",
    "            ans.pop()\n",
    "\n",
    "combination(0)"
   ]
  },
  {
   "cell_type": "code",
   "execution_count": null,
   "metadata": {},
   "outputs": [],
   "source": []
  }
 ],
 "metadata": {
  "kernelspec": {
   "display_name": "Python 3",
   "language": "python",
   "name": "python3"
  },
  "language_info": {
   "codemirror_mode": {
    "name": "ipython",
    "version": 3
   },
   "file_extension": ".py",
   "mimetype": "text/x-python",
   "name": "python",
   "nbconvert_exporter": "python",
   "pygments_lexer": "ipython3",
   "version": "3.8.6"
  }
 },
 "nbformat": 4,
 "nbformat_minor": 2
}
