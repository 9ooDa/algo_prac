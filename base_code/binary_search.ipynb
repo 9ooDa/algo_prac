{
 "cells": [
  {
   "cell_type": "markdown",
   "metadata": {},
   "source": [
    "입력 데이터 개수가 많거나 탐색 범위가 넓으면 이진탐색 의심하기"
   ]
  },
  {
   "cell_type": "code",
   "execution_count": 1,
   "metadata": {},
   "outputs": [],
   "source": [
    "# input()으로 받으면 느려서 시간초과 받을 수도 있으니까 다른 방법 채택\n",
    "import sys\n",
    "\n",
    "input_data = sys.stdin.readline().rstrip()\n",
    "\n",
    "print(input_data)"
   ]
  },
  {
   "cell_type": "markdown",
   "metadata": {},
   "source": [
    "재귀적 구현"
   ]
  },
  {
   "cell_type": "code",
   "execution_count": 1,
   "metadata": {},
   "outputs": [
    {
     "name": "stdout",
     "output_type": "stream",
     "text": [
      "4\n"
     ]
    }
   ],
   "source": [
    "def binary_search(array, target, start, end):\n",
    "    if start > end:\n",
    "        return None\n",
    "    \n",
    "    mid = (start + end) // 2\n",
    "\n",
    "    if array[mid] == target:\n",
    "        return mid # 인덱스 반환\n",
    "    elif array[mid] > target:\n",
    "        return binary_search(array, target, start, mid - 1)\n",
    "    else:\n",
    "        return binary_search(array, target, mid + 1, end)\n",
    "    \n",
    "n, target = list(map(int, input().split()))\n",
    "\n",
    "array = list(map(int, input().split()))\n",
    "\n",
    "result = binary_search(array, target, 0, n - 1)\n",
    "if result == None:\n",
    "    print(\"원소가 존재하지 않습니다.\")\n",
    "else:\n",
    "    print(result + 1) # 인덱스 출력"
   ]
  },
  {
   "cell_type": "markdown",
   "metadata": {},
   "source": [
    "반복문 구현"
   ]
  },
  {
   "cell_type": "code",
   "execution_count": null,
   "metadata": {},
   "outputs": [],
   "source": [
    "def binary_search(array, target, start, end):\n",
    "    while start <= end:\n",
    "        mid = (start + end) // 2\n",
    "        if array[mid] == target:\n",
    "            return mid\n",
    "        elif array[mid] > target:\n",
    "            end = mid - 1\n",
    "        else:\n",
    "            start = mid + 1\n",
    "    return None\n",
    "\n",
    "n, target = list(map(int, input().split()))\n",
    "\n",
    "array = list(map(int, input().split()))\n",
    "\n",
    "result = binary_search(array, target, 0, n - 1)\n",
    "if result == None:\n",
    "    print(\"원소가 존재하지 않습니다.\")\n",
    "else:\n",
    "    print(result + 1)\n"
   ]
  },
  {
   "cell_type": "markdown",
   "metadata": {},
   "source": [
    "bisect 라이브러리 사용"
   ]
  },
  {
   "cell_type": "code",
   "execution_count": 3,
   "metadata": {},
   "outputs": [
    {
     "name": "stdout",
     "output_type": "stream",
     "text": [
      "2\n",
      "4\n"
     ]
    }
   ],
   "source": [
    "from bisect import bisect_left, bisect_right\n",
    "\n",
    "a = [1, 2, 4, 4, 8]\n",
    "x = 4\n",
    "\n",
    "print(bisect_left(a, x))\n",
    "print(bisect_right(a, x))"
   ]
  },
  {
   "cell_type": "markdown",
   "metadata": {},
   "source": [
    "라이브러리를 활용해 값이 특정 범위에 속하는 데이터 개수 구하기"
   ]
  },
  {
   "cell_type": "code",
   "execution_count": 4,
   "metadata": {},
   "outputs": [
    {
     "name": "stdout",
     "output_type": "stream",
     "text": [
      "2\n",
      "6\n"
     ]
    }
   ],
   "source": [
    "from bisect import bisect_left, bisect_right\n",
    "\n",
    "def count_by_range(a, left_value, right_value):\n",
    "    right_index = bisect_right(a, right_value)\n",
    "    left_index = bisect_left(a, left_value)\n",
    "    return right_index - left_index\n",
    "\n",
    "a = [1, 2, 3, 3, 3, 3, 4, 4, 8, 9]\n",
    "\n",
    "# 값이 4인 데이터 개수 출력\n",
    "print(count_by_range(a, 4, 4))\n",
    "# 값이 [-1, 3] 범위에 있는 데이터 개수 출력\n",
    "print(count_by_range(a, -1, 3))"
   ]
  },
  {
   "cell_type": "markdown",
   "metadata": {},
   "source": []
  }
 ],
 "metadata": {
  "kernelspec": {
   "display_name": "Python 3",
   "language": "python",
   "name": "python3"
  },
  "language_info": {
   "codemirror_mode": {
    "name": "ipython",
    "version": 3
   },
   "file_extension": ".py",
   "mimetype": "text/x-python",
   "name": "python",
   "nbconvert_exporter": "python",
   "pygments_lexer": "ipython3",
   "version": "3.8.6"
  },
  "orig_nbformat": 4
 },
 "nbformat": 4,
 "nbformat_minor": 2
}
