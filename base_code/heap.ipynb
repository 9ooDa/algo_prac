{
 "cells": [
  {
   "cell_type": "markdown",
   "metadata": {},
   "source": [
    "힙 = 우선순위 큐 (Priority Queue) \\\n",
    "힙에서는 항상 루트 노드를 제거함 \\\n",
    "힙 = 완전 이진 트리 형식 (루트 노드 -> 왼쪽 자식 노드 -> 오른쪽 자식 노드 순으로 삽입) \\\n",
    "최소 힙 = 부모 노드의 키값이 자식 노드의 키값보다 항상 작은 힙 \\\n",
    "최대 힙 = 부모 노드의 키값이 자식 노드의 키값보다 항상 큰 힙 \\\n",
    "삽입 시간: O(log N) \\\n",
    "삭제 시간: O(log N) \\\n",
    "\\\n",
    "데이터를 삽입했을 때 리스트가 힙의 성질을 가지게 하려면 Min-Heapify() 함수를 사용하면 됨"
   ]
  },
  {
   "cell_type": "code",
   "execution_count": 1,
   "metadata": {},
   "outputs": [
    {
     "name": "stdout",
     "output_type": "stream",
     "text": [
      "1\n",
      "2\n",
      "3\n",
      "4\n",
      "5\n",
      "6\n",
      "7\n",
      "8\n",
      "10\n"
     ]
    }
   ],
   "source": [
    "import sys\n",
    "import heapq\n",
    "\n",
    "def heapsort(iterable):\n",
    "    # 이미 생성해둔 리스트가 있다면 heapq.heapify(list)로 힙화 시킬 수 있음\n",
    "    h = [] # 힙, 꼭 빈 리스트를 생성한 후 숫자를 추가해야함\n",
    "    res = []\n",
    "    # 모든 원소를 차례대로 힙에 삽입\n",
    "    for v in iterable:\n",
    "        heapq.heappush(h, v) # (default = min heap)\n",
    "        # heapq.heappush(h, -v) # max heap\n",
    "    # 힙에 삽입된 모든 원소를 차례대로(작 -> 큰) 꺼내 담기\n",
    "    for i in range(len(h)):\n",
    "        res.append(heapq.heappop(h)) \n",
    "        # res.append(-heapq.heappop(h))\n",
    "    return res\n",
    "\n",
    "arr = [4, 7, 1, 3, 10, 8, 5, 2, 6]\n",
    "\n",
    "res = heapsort(arr)\n",
    "\n",
    "for i in range(9):\n",
    "    print(res[i])\n",
    "\n"
   ]
  },
  {
   "cell_type": "markdown",
   "metadata": {},
   "source": [
    "### 예제 : 주어진 리스트의 모든 값이 T 이상이 될 때까지 최솟값 두 개를 합치기\n",
    "N개의 비커에 액체가 담겨 있다. 모든 비커에 있는 액체의 양이 T 이상이 될 때까지 액체가 가장 적게 담긴 두 비커의 액체를 합쳐가려 한다. \\\n",
    "각각의 비커에 담겨있는 액체의 양을 표기한 리스트 L과 기준 T가 주어질 때, 모든 비커의 양이 T 이상이 될 때까지 필요한 작업 횟수를 리턴하는 함수를 구현해보자. \\\n",
    "(구현할 수 없는 경우 -1을 리턴)\n",
    "\\\n",
    "\\\n",
    "EX)\\\n",
    "T = 4 \\\n",
    "L = [1, 2, 3, 4, 5, 6, 7]\n",
    "\n",
    "step1: [1, 2]를 합침 -> [3, 3, 4, 5, 6, 7]\n",
    "\n",
    "step2: [3, 3]을 합침 -> [6, 4, 5, 6, 7]\n",
    "\n",
    "모든 비커의 액체 양이 4 이상이므로 STOP"
   ]
  },
  {
   "cell_type": "code",
   "execution_count": 9,
   "metadata": {},
   "outputs": [
    {
     "name": "stdout",
     "output_type": "stream",
     "text": [
      "5\n",
      "-1\n"
     ]
    }
   ],
   "source": [
    "import heapq\n",
    "\n",
    "def heap_example(L, T):\n",
    "    heapq.heapify(L)\n",
    "\n",
    "    res = 0\n",
    "    while len(L) >= 2:\n",
    "        min_ = heapq.heappop(L)\n",
    "\n",
    "        if min_ >= T:\n",
    "            return res\n",
    "        \n",
    "        else:\n",
    "            min_2 = heapq.heappop(L)\n",
    "            heapq.heappush(L, min_ + min_2)\n",
    "            res += 1\n",
    "    if L[0] > T:\n",
    "        return res\n",
    "    else:\n",
    "        return -1\n",
    "\n",
    "\n",
    "L = [3, 5, 1, 8, 3, 2, 1, 9]\n",
    "T = 7\n",
    "print(heap_example(L, T))\n",
    "\n",
    "L = [3, 5, 1, 8, 3, 2, 1, 9]\n",
    "T = 50\n",
    "print(heap_example(L, T))"
   ]
  },
  {
   "cell_type": "markdown",
   "metadata": {},
   "source": []
  }
 ],
 "metadata": {
  "kernelspec": {
   "display_name": "Python 3",
   "language": "python",
   "name": "python3"
  },
  "language_info": {
   "codemirror_mode": {
    "name": "ipython",
    "version": 3
   },
   "file_extension": ".py",
   "mimetype": "text/x-python",
   "name": "python",
   "nbconvert_exporter": "python",
   "pygments_lexer": "ipython3",
   "version": "3.8.6"
  },
  "orig_nbformat": 4
 },
 "nbformat": 4,
 "nbformat_minor": 2
}
