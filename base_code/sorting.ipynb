{
 "cells": [
  {
   "cell_type": "code",
   "execution_count": 1,
   "metadata": {},
   "outputs": [],
   "source": [
    "array = [7, 5, 9, 0, 3, 1, 6, 2, 4, 8]"
   ]
  },
  {
   "cell_type": "markdown",
   "metadata": {},
   "source": [
    "### 선택 정렬"
   ]
  },
  {
   "cell_type": "code",
   "execution_count": 2,
   "metadata": {},
   "outputs": [
    {
     "name": "stdout",
     "output_type": "stream",
     "text": [
      "[0, 1, 2, 3, 4, 5, 6, 7, 8, 9]\n"
     ]
    }
   ],
   "source": [
    "a1 = array\n",
    "\n",
    "for i in range(len(a1)):\n",
    "    min_ind = i\n",
    "    for j in range(i+1, len(a1)):\n",
    "        if a1[min_ind] > a1[j]:\n",
    "            a1[min_ind], a1[j] = a1[j], a1[min_ind]\n",
    "\n",
    "print(a1)"
   ]
  },
  {
   "cell_type": "markdown",
   "metadata": {},
   "source": [
    "### 버블 정렬"
   ]
  },
  {
   "cell_type": "code",
   "execution_count": 4,
   "metadata": {},
   "outputs": [
    {
     "name": "stdout",
     "output_type": "stream",
     "text": [
      "[1, 2, 3, 4, 5]\n"
     ]
    }
   ],
   "source": [
    "array = [4, 3, 5, 1, 2]\n",
    "\n",
    "for i in range(len(array)-1, 0, -1):\n",
    "    for j in range(i):\n",
    "        if array[j] > array[j+1]:\n",
    "            array[j], array[j+1] = array[j+1], array[j]\n",
    "\n",
    "print(array)"
   ]
  },
  {
   "cell_type": "markdown",
   "metadata": {},
   "source": [
    "최적화"
   ]
  },
  {
   "cell_type": "code",
   "execution_count": 5,
   "metadata": {},
   "outputs": [
    {
     "name": "stdout",
     "output_type": "stream",
     "text": [
      "[1, 2, 3, 4, 5]\n"
     ]
    }
   ],
   "source": [
    "array = [4, 3, 5, 1, 2]\n",
    "\n",
    "for i in range(len(array)-1, 0, -1):\n",
    "    swapped = False\n",
    "    for j in range(i):\n",
    "        if array[j] > array[j+1]:\n",
    "            array[j], array[j+1] = array[j+1], array[j]\n",
    "            swapped = True\n",
    "    if not swapped:\n",
    "        break\n",
    "\n",
    "print(array)"
   ]
  },
  {
   "cell_type": "markdown",
   "metadata": {},
   "source": [
    "### 삽입 정렬"
   ]
  },
  {
   "cell_type": "code",
   "execution_count": 3,
   "metadata": {},
   "outputs": [
    {
     "name": "stdout",
     "output_type": "stream",
     "text": [
      "[0, 1, 2, 3, 4, 5, 6, 7, 8, 9]\n"
     ]
    }
   ],
   "source": [
    "a2 = array\n",
    "\n",
    "for i in range(1, len(a2)):\n",
    "    for j in range(i, 0, -1): # i부터 1까지 1씩 감소 (바로 왼쪽에 있는 거랑만 비교)\n",
    "        if a2[j] < a2[j-1]: # 바로 왼쪽이랑 비교\n",
    "            a2[j], a2[j-1] = a2[j-1], a2[j]\n",
    "        else:\n",
    "            break # 자기보다 작은 데이터를 만나면 멈추기\n",
    "\n",
    "print(a2)"
   ]
  },
  {
   "cell_type": "markdown",
   "metadata": {},
   "source": [
    "### 퀵 정렬"
   ]
  },
  {
   "cell_type": "markdown",
   "metadata": {},
   "source": [
    "일반적인 방식"
   ]
  },
  {
   "cell_type": "code",
   "execution_count": 7,
   "metadata": {},
   "outputs": [
    {
     "name": "stdout",
     "output_type": "stream",
     "text": [
      "[0, 1, 2, 3, 4, 5, 6, 7, 8, 9]\n"
     ]
    }
   ],
   "source": [
    "array = [5, 7, 9, 0, 3, 1, 6, 2, 4, 8]\n",
    "\n",
    "def quick_sort(array, start, end):\n",
    "    if start >= end:\n",
    "        return\n",
    "    pivot = start\n",
    "    left = start + 1\n",
    "    right = end\n",
    "\n",
    "    while left <= right:\n",
    "        while left <= end and array[left] <= array[pivot]:\n",
    "            left += 1\n",
    "        \n",
    "        while right > start and array[right] >= array[pivot]:\n",
    "            right -= 1\n",
    "\n",
    "        if left > right: # 엇갈린 경우\n",
    "            array[right], array[pivot] = array[pivot], array[right]\n",
    "        else:\n",
    "            array[left], array[right] = array[right], array[left]\n",
    "\n",
    "    # 분할 이후 각각 정렬\n",
    "    quick_sort(array, start, right - 1)\n",
    "    quick_sort(array, right + 1, end)\n",
    "\n",
    "quick_sort(array, 0, len(array) - 1)\n",
    "print(array)"
   ]
  },
  {
   "cell_type": "markdown",
   "metadata": {},
   "source": [
    "파이썬의 장점을 살린 방식"
   ]
  },
  {
   "cell_type": "code",
   "execution_count": 8,
   "metadata": {},
   "outputs": [
    {
     "name": "stdout",
     "output_type": "stream",
     "text": [
      "[0, 1, 2, 3, 4, 5, 6, 7, 8, 9]\n"
     ]
    }
   ],
   "source": [
    "array = [5, 7, 9, 0, 3, 1, 6, 2, 4, 8]\n",
    "\n",
    "def quick_sort(array):\n",
    "    if len(array) <= 1:\n",
    "        return array\n",
    "    pivot = array[0]\n",
    "    tail = array[1:]\n",
    "\n",
    "    left_side = [x for x in tail if x <= pivot]\n",
    "    right_side = [x for x in tail if x > pivot]\n",
    "\n",
    "    return quick_sort(left_side) + [pivot] + quick_sort(right_side)\n",
    "\n",
    "print(quick_sort(array))"
   ]
  },
  {
   "cell_type": "markdown",
   "metadata": {},
   "source": [
    "### 계수 정렬"
   ]
  },
  {
   "cell_type": "code",
   "execution_count": 1,
   "metadata": {},
   "outputs": [
    {
     "name": "stdout",
     "output_type": "stream",
     "text": [
      "0 0 1 1 2 2 3 4 5 5 6 7 8 9 9 "
     ]
    }
   ],
   "source": [
    "array = [7, 5, 9, 0, 3, 1, 6, 2, 9, 1, 4, 8, 0, 5, 2]\n",
    "count = [0] * (max(array)+1)\n",
    "\n",
    "for i in range(len(array)):\n",
    "    count[array[i]] += 1\n",
    "\n",
    "for i in range(len(count)):\n",
    "    for j in range(count[i]):\n",
    "        print(i, end=' ')"
   ]
  },
  {
   "cell_type": "code",
   "execution_count": null,
   "metadata": {},
   "outputs": [],
   "source": []
  }
 ],
 "metadata": {
  "kernelspec": {
   "display_name": "Python 3",
   "language": "python",
   "name": "python3"
  },
  "language_info": {
   "codemirror_mode": {
    "name": "ipython",
    "version": 3
   },
   "file_extension": ".py",
   "mimetype": "text/x-python",
   "name": "python",
   "nbconvert_exporter": "python",
   "pygments_lexer": "ipython3",
   "version": "3.8.6"
  },
  "orig_nbformat": 4
 },
 "nbformat": 4,
 "nbformat_minor": 2
}
